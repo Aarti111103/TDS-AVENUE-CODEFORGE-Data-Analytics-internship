{
  "nbformat": 4,
  "nbformat_minor": 0,
  "metadata": {
    "colab": {
      "provenance": []
    },
    "kernelspec": {
      "name": "python3",
      "display_name": "Python 3"
    },
    "language_info": {
      "name": "python"
    }
  },
  "cells": [
    {
      "cell_type": "markdown",
      "source": [
        "# Task 2 : Calculate summary statistics\n",
        "\n",
        "---\n",
        "\n",
        "\n",
        "Calculate summary statistics (mean, median,\n",
        "mode, standard deviation) for a dataset"
      ],
      "metadata": {
        "id": "tYndpvW1M1KY"
      }
    },
    {
      "cell_type": "markdown",
      "source": [
        "#Import Libraries"
      ],
      "metadata": {
        "id": "7sRJ2Vi9INkG"
      }
    },
    {
      "cell_type": "code",
      "source": [
        "import pandas as pd\n",
        "import numpy as np"
      ],
      "metadata": {
        "id": "A2HgziEsIPpg"
      },
      "execution_count": null,
      "outputs": []
    },
    {
      "cell_type": "markdown",
      "source": [
        "# Load Dataset"
      ],
      "metadata": {
        "id": "7_Sg9bJbIWZq"
      }
    },
    {
      "cell_type": "code",
      "source": [
        "train_cleaned = pd.read_csv(\"/content/drive/MyDrive/train_cleaned.csv\")\n",
        "test_cleaned = pd.read_csv(\"/content/drive/MyDrive/test_cleaned.csv\")"
      ],
      "metadata": {
        "id": "D6JVr3mYITqg"
      },
      "execution_count": null,
      "outputs": []
    },
    {
      "cell_type": "code",
      "source": [
        "# Select only numeric columns\n",
        "train_numeric = train_cleaned.select_dtypes(include=['number'])\n",
        "test_numeric = test_cleaned.select_dtypes(include=['number'])"
      ],
      "metadata": {
        "id": "r1dua_eoIbWQ"
      },
      "execution_count": null,
      "outputs": []
    },
    {
      "cell_type": "code",
      "source": [
        "# Save the cleaned data to a new CSV file\n",
        "train.to_csv('/content/drive/MyDrive/train_numeric.csv', index=False)\n",
        "test.to_csv('/content/drive/MyDrive/test_numeric.csv', index=False)"
      ],
      "metadata": {
        "id": "HI3fJtFvOcT5"
      },
      "execution_count": null,
      "outputs": []
    },
    {
      "cell_type": "code",
      "source": [
        "# Define a function to calculate summary statistics\n",
        "def summary_statistics(df):\n",
        "    statistics = {\n",
        "        'mean': df.mean(),\n",
        "        'median': df.median(),\n",
        "        'mode': df.mode().iloc[0],\n",
        "        'std': df.std()\n",
        "    }\n",
        "    return pd.DataFrame(statistics)"
      ],
      "metadata": {
        "id": "K9cM1Pp1NWXS"
      },
      "execution_count": null,
      "outputs": []
    },
    {
      "cell_type": "code",
      "source": [
        "# Calculate statistics for cleaned and numeric train dataset\n",
        "train_stats = summary_statistics(train_numeric)\n",
        "print(\"Cleaned Train Dataset Statistics:\\n\", summary_statistics(train_numeric))"
      ],
      "metadata": {
        "colab": {
          "base_uri": "https://localhost:8080/"
        },
        "id": "GBo5vWY4NL7m",
        "outputId": "11c93e18-e172-4784-840e-2c437b167881"
      },
      "execution_count": null,
      "outputs": [
        {
          "output_type": "stream",
          "name": "stdout",
          "text": [
            "Cleaned Train Dataset Statistics:\n",
            "                    mean    median   mode         std\n",
            "PassengerId  446.000000  446.0000   1.00  257.353842\n",
            "Survived       0.383838    0.0000   0.00    0.486592\n",
            "Pclass         2.308642    3.0000   3.00    0.836071\n",
            "Age           29.699118   28.0000  24.00   14.526497\n",
            "SibSp          0.523008    0.0000   0.00    1.102743\n",
            "Parch          0.381594    0.0000   0.00    0.806057\n",
            "Fare          32.204208   14.4542   8.05   49.693429\n"
          ]
        }
      ]
    },
    {
      "cell_type": "code",
      "source": [
        "# Calculate statistics for cleaned and numeric test dataset\n",
        "test_stats = summary_statistics(test_numeric)\n",
        "print(\"Cleaned Test Dataset Statistics:\\n\", summary_statistics(test_numeric))"
      ],
      "metadata": {
        "colab": {
          "base_uri": "https://localhost:8080/"
        },
        "id": "-GXDCH4LNO2R",
        "outputId": "1ca04c3e-98f9-4670-be24-ac1e6106d141"
      },
      "execution_count": null,
      "outputs": [
        {
          "output_type": "stream",
          "name": "stdout",
          "text": [
            "Cleaned Test Dataset Statistics:\n",
            "                     mean     median    mode         std\n",
            "PassengerId  1100.500000  1100.5000  892.00  120.810458\n",
            "Pclass          2.265550     3.0000    3.00    0.841838\n",
            "Age            30.272590    27.0000   21.00   14.181209\n",
            "SibSp           0.447368     0.0000    0.00    0.896760\n",
            "Parch           0.392344     0.0000    0.00    0.981429\n",
            "Fare           35.627188    14.4542    7.75   55.907576\n"
          ]
        }
      ]
    },
    {
      "cell_type": "code",
      "source": [],
      "metadata": {
        "id": "VYCydANeNSAC"
      },
      "execution_count": null,
      "outputs": []
    }
  ]
}